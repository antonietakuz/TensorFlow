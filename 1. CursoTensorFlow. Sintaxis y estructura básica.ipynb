{
 "cells": [
  {
   "cell_type": "markdown",
   "metadata": {},
   "source": [
    "# Tensor Flow\n",
    "El nombre de Tensorflow se deriva directamente de su marco principal: Tensor. En Tensorflow, todos los cálculos involucran tensores. \n",
    "\n",
    "Un tensor es un vector o matriz de n-dimensiones que representa todos los tipos de datos. Todos los valores de un tensor contienen un tipo de datos idéntico con una forma conocida (o parcialmente conocida). La forma de los datos es la dimensionalidad de la matriz o matriz"
   ]
  },
  {
   "cell_type": "markdown",
   "metadata": {},
   "source": [
    "<img src=\"figures/tensores.jpg\" width=\"50%\">"
   ]
  },
  {
   "cell_type": "code",
   "execution_count": null,
   "metadata": {},
   "outputs": [],
   "source": [
    "import tensorflow as tf\n",
    "tf.compat.v1.disable_eager_execution()"
   ]
  },
  {
   "cell_type": "markdown",
   "metadata": {},
   "source": [
    "# Ejemplo 1: Primer tensor"
   ]
  },
  {
   "cell_type": "code",
   "execution_count": 21,
   "metadata": {},
   "outputs": [],
   "source": [
    "hola = tf.constant(\"Hola\")"
   ]
  },
  {
   "cell_type": "code",
   "execution_count": 12,
   "metadata": {},
   "outputs": [],
   "source": [
    "sess =  tf.compat.v1.Session()"
   ]
  },
  {
   "cell_type": "code",
   "execution_count": 15,
   "metadata": {},
   "outputs": [
    {
     "name": "stdout",
     "output_type": "stream",
     "text": [
      "b'Hola'\n"
     ]
    }
   ],
   "source": [
    "\n",
    "print(sess.run(hola))"
   ]
  },
  {
   "cell_type": "markdown",
   "metadata": {},
   "source": [
    "# Ejemplo 2: Segundo tensor"
   ]
  },
  {
   "cell_type": "code",
   "execution_count": 18,
   "metadata": {},
   "outputs": [
    {
     "name": "stdout",
     "output_type": "stream",
     "text": [
      "b'HolaMundo'\n"
     ]
    }
   ],
   "source": [
    "# crear el tensor\n",
    "mensaje = tf.compat.v1.string_join([\"Hola\", \"Mundo\"])\n",
    "# lanzar la sesion\n",
    "with tf.compat.v1.Session() as sess:\n",
    "    print(sess.run(mensaje))"
   ]
  },
  {
   "cell_type": "markdown",
   "metadata": {},
   "source": [
    "# Ejemplo 3: Tensores con dimensiones\n",
    "    El numero de  dimensiones de un tensor es la cantidad de dimensiones que tiene el tensor "
   ]
  },
  {
   "cell_type": "markdown",
   "metadata": {},
   "source": [
    "<img src=\"figures/dimensiones de tensores.png\" width=\"50%\">"
   ]
  },
  {
   "cell_type": "code",
   "execution_count": 31,
   "metadata": {},
   "outputs": [],
   "source": [
    "# Tensor de Rango 0 o escalares\n",
    "\n",
    "mamifero = tf.Variable(\"elefante\", tf.string)\n",
    "ignition = tf.Variable(451, tf.int32)\n",
    "flotante = tf.Variable(3.14, tf.float32)\n",
    "complicated = tf.Variable(12.3 - 4,85j, tf.complex64)\n",
    "\n"
   ]
  },
  {
   "cell_type": "code",
   "execution_count": 32,
   "metadata": {},
   "outputs": [],
   "source": [
    "# Para crear un objeto Tensor de Rango 1 o Vector, podemos pasar una lista de items como el valor inicial\n",
    "mystring = tf.Variable([\"Hola\", \"Mundo\"], tf.string)\n",
    "cool_numbers = tf.Variable([1,2,3,4,5], tf.int32)\n",
    "first_primes = tf.Variable([2,3,5,7,11,13,17,19,23,29,31,37,41,43,47,53,59,61,67,71,73,79,83,89,97], tf.int32)\n",
    "its_very_complicated = tf.Variable ([12.3, 4.85j, 3.23j], tf.complex64)\n",
    "\n"
   ]
  },
  {
   "cell_type": "code",
   "execution_count": 33,
   "metadata": {},
   "outputs": [],
   "source": [
    "# Un objeto Tensor de Rango 2 o Matriz consiste en al menos una fila y una columna\n",
    "\n",
    "mymat = tf.Variable([[1,2,3],[4,5,6],[7,8,9]], tf.int32)\n",
    "myxor = tf.Variable([[True, False, True],[False, True, False],[True, False, True]], tf.bool)\n",
    "linear_squares = tf.Variable([[1,4,9],[16,25,36],[49,64,81]], tf.int32)\n",
    "rank_of_squares = tf.rank(linear_squares)\n"
   ]
  },
  {
   "cell_type": "code",
   "execution_count": 36,
   "metadata": {},
   "outputs": [
    {
     "name": "stdout",
     "output_type": "stream",
     "text": [
      "4\n"
     ]
    }
   ],
   "source": [
    "#Tensores de rangos más altos, contienen arrays  n-dimesionales. Por ejemplo para procesamiento de imagenes\n",
    "\n",
    "my_image =tf.zeros ([10,299,299,3], tf.float32) # 10 imagenes de tamaño 299x299x3\n",
    "r =tf.rank (my_image)\n",
    "\n",
    "with tf.compat.v1.Session() as sess:\n",
    "    print (sess.run(r))"
   ]
  }
 ],
 "metadata": {
  "kernelspec": {
   "display_name": "Python 3.9.7 ('base')",
   "language": "python",
   "name": "python3"
  },
  "language_info": {
   "codemirror_mode": {
    "name": "ipython",
    "version": 3
   },
   "file_extension": ".py",
   "mimetype": "text/x-python",
   "name": "python",
   "nbconvert_exporter": "python",
   "pygments_lexer": "ipython3",
   "version": "3.9.7"
  },
  "orig_nbformat": 4,
  "vscode": {
   "interpreter": {
    "hash": "e06ff7da33dc9620448857a90ad8b5f428f0d573d205a934d2841c8aee45ea32"
   }
  }
 },
 "nbformat": 4,
 "nbformat_minor": 2
}
