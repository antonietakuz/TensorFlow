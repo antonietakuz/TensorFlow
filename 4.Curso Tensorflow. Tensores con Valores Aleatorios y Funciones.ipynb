{
 "cells": [
  {
   "cell_type": "code",
   "execution_count": 5,
   "metadata": {},
   "outputs": [],
   "source": [
    "import tensorflow as tf\n",
    "tf.compat.v1.disable_eager_execution()"
   ]
  },
  {
   "cell_type": "markdown",
   "metadata": {},
   "source": [
    "# Tensores con Valores Aleatorios\n",
    "\n",
    "<img src=\"figures/tensoresaleatorios.jpg\" width=\"50%\">"
   ]
  },
  {
   "cell_type": "markdown",
   "metadata": {},
   "source": [
    "# Función RandomUniform"
   ]
  },
  {
   "cell_type": "code",
   "execution_count": 4,
   "metadata": {},
   "outputs": [
    {
     "name": "stdout",
     "output_type": "stream",
     "text": [
      "[0.5465491  0.5088934  0.9763385  0.14645493 0.698522   0.79078376\n",
      " 0.97878635 0.52607083 0.6338397  0.06080484]\n"
     ]
    }
   ],
   "source": [
    "valores_aleatorios = tf.random.uniform([10], dtype=tf.float32)\n",
    "\n",
    "with tf.compat.v1.Session() as sess:\n",
    "    print(sess.run(valores_aleatorios))"
   ]
  },
  {
   "cell_type": "markdown",
   "metadata": {},
   "source": [
    "# Funciones para transformar los tensores"
   ]
  },
  {
   "cell_type": "markdown",
   "metadata": {},
   "source": [
    "**Función Reshape**: devuelve un tensor con los mismos elementos que el tensor dado con la forma dada"
   ]
  },
  {
   "cell_type": "code",
   "execution_count": 6,
   "metadata": {},
   "outputs": [
    {
     "name": "stdout",
     "output_type": "stream",
     "text": [
      "[[1. 2.]\n",
      " [3. 4.]]\n"
     ]
    }
   ],
   "source": [
    "vector= tf.constant([1.,2.,3.,4.])\n",
    "matriz= tf.reshape(vector, [2,2])\n",
    "with tf.compat.v1.Session() as sess:\n",
    "    print(sess.run(matriz))"
   ]
  },
  {
   "cell_type": "markdown",
   "metadata": {},
   "source": [
    "**Función slice**: extrae una porción de un tensor"
   ]
  },
  {
   "cell_type": "code",
   "execution_count": 6,
   "metadata": {},
   "outputs": [
    {
     "name": "stdout",
     "output_type": "stream",
     "text": [
      "[[5. 6.]\n",
      " [8. 9.]]\n"
     ]
    }
   ],
   "source": [
    "matris = tf.constant([[1.,2., 3.],[4.,5.,6.], [7.,8.,9.]])\n",
    "slice_matriz= tf.slice(matris, [1,1], [2,2])\n",
    "with tf.compat.v1.Session() as sess:\n",
    "    print(sess.run(slice_matriz))"
   ]
  },
  {
   "cell_type": "markdown",
   "metadata": {},
   "source": [
    "**Funcion stack**: combina una lista de tensores en un tensor de mayor rango"
   ]
  },
  {
   "cell_type": "code",
   "execution_count": 7,
   "metadata": {},
   "outputs": [
    {
     "name": "stdout",
     "output_type": "stream",
     "text": [
      "[[1. 2.]\n",
      " [3. 4.]\n",
      " [5. 6.]]\n"
     ]
    }
   ],
   "source": [
    "t1 =tf.constant([1.,2.])\n",
    "t2 =tf.constant([3.,4.])\n",
    "t3 =tf.constant([5.,6.])\n",
    "t4= tf.stack([t1,t2,t3])\n",
    "\n",
    "with tf.compat.v1.Session() as sess:\n",
    "    print(sess.run(t4))"
   ]
  },
  {
   "cell_type": "markdown",
   "metadata": {},
   "source": [
    "**Función unstack**: separa un tensor en una lista de tensores de menor rango"
   ]
  },
  {
   "cell_type": "code",
   "execution_count": 9,
   "metadata": {},
   "outputs": [
    {
     "name": "stdout",
     "output_type": "stream",
     "text": [
      "[array([1., 2.], dtype=float32), array([3., 4.], dtype=float32), array([5., 6.], dtype=float32)]\n"
     ]
    }
   ],
   "source": [
    "t5 =tf.constant([1.,2.])\n",
    "t6 =tf.constant([3.,4.])\n",
    "t7 =tf.constant([5.,6.])\n",
    "t8= tf.unstack([t5,t6,t7])\n",
    "\n",
    "with tf.compat.v1.Session() as sess:\n",
    "    print(sess.run(t8))"
   ]
  },
  {
   "cell_type": "markdown",
   "metadata": {},
   "source": [
    "# Operaciones mateáticas básicas"
   ]
  },
  {
   "cell_type": "markdown",
   "metadata": {},
   "source": [
    "**add**: suma dos tensores"
   ]
  },
  {
   "cell_type": "code",
   "execution_count": 10,
   "metadata": {},
   "outputs": [],
   "source": [
    "a = tf.constant([1.,2.,3.])\n",
    "b = tf.constant([4.,5.,6.])\n",
    "sum = tf.add(a,b)\n",
    "suma2 = a+b"
   ]
  },
  {
   "cell_type": "markdown",
   "metadata": {},
   "source": [
    "**subtract**: resta dos tensores"
   ]
  },
  {
   "cell_type": "code",
   "execution_count": 11,
   "metadata": {},
   "outputs": [],
   "source": [
    "res =tf.subtract(a,b)"
   ]
  },
  {
   "cell_type": "markdown",
   "metadata": {},
   "source": [
    "**multiply**: multiplica dos tensores"
   ]
  },
  {
   "cell_type": "code",
   "execution_count": 12,
   "metadata": {},
   "outputs": [],
   "source": [
    "producto = tf.multiply(a,b)"
   ]
  },
  {
   "cell_type": "markdown",
   "metadata": {},
   "source": [
    "**divide**: divide dos tensores"
   ]
  },
  {
   "cell_type": "code",
   "execution_count": 13,
   "metadata": {},
   "outputs": [],
   "source": [
    "div= tf.divide(a,b)"
   ]
  },
  {
   "cell_type": "code",
   "execution_count": 14,
   "metadata": {},
   "outputs": [
    {
     "name": "stdout",
     "output_type": "stream",
     "text": [
      "[5. 7. 9.]\n",
      "[5. 7. 9.]\n",
      "[-3. -3. -3.]\n",
      "[ 4. 10. 18.]\n",
      "[0.25 0.4  0.5 ]\n"
     ]
    }
   ],
   "source": [
    "with tf.compat.v1.Session() as sess:\n",
    "    print(sess.run(sum))\n",
    "    print(sess.run(suma2))\n",
    "    print(sess.run(res))\n",
    "    print(sess.run(producto))\n",
    "    print(sess.run(div))"
   ]
  }
 ],
 "metadata": {
  "kernelspec": {
   "display_name": "Python 3.9.7 ('base')",
   "language": "python",
   "name": "python3"
  },
  "language_info": {
   "codemirror_mode": {
    "name": "ipython",
    "version": 3
   },
   "file_extension": ".py",
   "mimetype": "text/x-python",
   "name": "python",
   "nbconvert_exporter": "python",
   "pygments_lexer": "ipython3",
   "version": "3.9.7"
  },
  "orig_nbformat": 4,
  "vscode": {
   "interpreter": {
    "hash": "e06ff7da33dc9620448857a90ad8b5f428f0d573d205a934d2841c8aee45ea32"
   }
  }
 },
 "nbformat": 4,
 "nbformat_minor": 2
}
