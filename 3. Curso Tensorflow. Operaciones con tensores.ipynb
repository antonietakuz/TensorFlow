{
 "cells": [
  {
   "cell_type": "code",
   "execution_count": 5,
   "metadata": {},
   "outputs": [],
   "source": [
    "import tensorflow as tf\n",
    "tf.compat.v1.disable_eager_execution()\n"
   ]
  },
  {
   "cell_type": "markdown",
   "metadata": {},
   "source": [
    "# Operaciones con tensores\n",
    "\n",
    "  * inicializar y asignar las variables de TensorFlow\n",
    "  * crear y manipular tensores\n",
    "  * repasar la suma y el producto en álgebra lineal (si estos temas son nuevos para ti, consulta una introducción a la [suma]\n",
    "  * familiarizarte con operaciones básicas de matemática y matrices de TensorFlow"
   ]
  },
  {
   "cell_type": "markdown",
   "metadata": {},
   "source": [
    " ## Suma de vectores\n",
    "\n",
    "Puedes realizar muchas operaciones matemáticas en los tensores ([TF API](https://www.tensorflow.org/api_guides/python/math_ops)). El siguiente código crea y manipula dos vectores (tensores 1-D), cada uno con seis elementos:"
   ]
  },
  {
   "cell_type": "code",
   "execution_count": 9,
   "metadata": {},
   "outputs": [
    {
     "name": "stdout",
     "output_type": "stream",
     "text": [
      "[ 3  4  6  8 12 14]\n"
     ]
    }
   ],
   "source": [
    "\n",
    "detection_graph = tf.compat.v1.get_default_graph()\n",
    "\n",
    "with detection_graph.as_default():\n",
    "  # Crea un vector de seis elementos (1-D tensor).\n",
    "  primes = tf.constant([2, 3, 5, 7, 11, 13], dtype=tf.int32)\n",
    "\n",
    " # Crea otro vector de seis elementos. Cada elemento en el vector será\n",
    "  # inicializado a 1. El primer argumento es la forma del tensor (más\n",
    "  # en las formas a continuación)\n",
    "  ones = tf.ones([6], dtype=tf.int32)\n",
    "\n",
    "  # Suma los dos vectores. El tensor resultante es un vector de seis elementos\n",
    "  just_beyond_primes = tf.add(primes, ones)\n",
    "\n",
    "  # Cree una sesión para ejecutar el gráfico predeterminado.\n",
    "  with tf.compat.v1.Session() as sess:\n",
    "    print(just_beyond_primes.eval())\n",
    "\n"
   ]
  },
  {
   "cell_type": "markdown",
   "metadata": {},
   "source": [
    " ### Emisión\n",
    "\n",
    "En términos matemáticos, solo puedes realizar operaciones basadas en elementos (p. ej., *suma* e *iguales*) en los tensores de la misma forma. Sin embargo, en TensorFlow, puedes realizar operaciones en tensores que tradicionalmente eran incompatibles. TensorFlow es compatible con la **emisión** (un concepto acuñado de NumPy), donde la matriz más pequeña en una operación basada en elementos se amplía para que tenga la misma forma que la matriz más grande. Por ejemplo, mediante la emisión:\n",
    "\n",
    "* Si un operando requiere un tensor de tamaño `[6]`, un tensor de tamaño `[1]` o `[]` puede servir como operando.\n",
    "* Si un operando requiere un tensor de tamaño `[4, 6]`, cualquiera de los siguientes tamaños puede servir como operando:\n",
    "  * `[1, 6]`\n",
    "  * `[6]`\n",
    "  * `[]`\n",
    "* Si una operación requiere un tensor de tamaño `[3, 5, 6]`, cualquiera de los siguientes tamaños puede servir como operando:\n",
    "\n",
    "  * `[1, 5, 6]`\n",
    "  * `[3, 1, 6]`\n",
    "  * `[3, 5, 1]`\n",
    "  * `[1, 1, 1]`\n",
    "  * `[5, 6]`\n",
    "  * `[1, 6]`\n",
    "  * `[6]`\n",
    "  * `[1]`\n",
    "  * `[]`\n",
    "  \n",
    "**NOTA:** Cuando un tensor es de emisión, sus entradas se **copian** conceptualmente. (Por cuestiones de rendimiento, no se copian realmente; la emisión se creó como una optimización del rendimiento).\n",
    "\n",
    "El conjunto de reglas completo de la emisión se describe en detalle en la [documentación sobre la emisión de NumPy](http://docs.scipy.org/doc/numpy-1.10.1/user/basics.broadcasting.html).\n",
    "\n",
    "El siguiente código realiza la misma suma de tensores que antes, pero mediante la emisión:"
   ]
  },
  {
   "cell_type": "code",
   "execution_count": 10,
   "metadata": {},
   "outputs": [
    {
     "name": "stdout",
     "output_type": "stream",
     "text": [
      "[ 3  4  6  8 12 14]\n"
     ]
    }
   ],
   "source": [
    "with detection_graph.as_default():\n",
    "  # Create a six-element vector (1-D tensor).\n",
    "  primes = tf.constant([2, 3, 5, 7, 11, 13], dtype=tf.int32)\n",
    "\n",
    "  # Create a constant scalar with value 1.\n",
    "  ones = tf.constant(1, dtype=tf.int32)\n",
    "\n",
    "  # Add the two tensors. The resulting tensor is a six-element vector.\n",
    "  just_beyond_primes = tf.add(primes, ones)\n",
    "\n",
    "  with tf.compat.v1.Session() as sess:\n",
    "    print(just_beyond_primes.eval())"
   ]
  },
  {
   "cell_type": "markdown",
   "metadata": {},
   "source": [
    " ## Producto de arreglos\n",
    "\n",
    "En álgebra lineal, cuando se multiplican dos arreglos, la cantidad de *columnas* del primer arreglo debe ser igual a la cantidad de *filas* en el segundo arreglo.\n",
    "\n",
    "- Es **_válido_** para multiplicar un arreglo de `3 × 4` por uno de `4 × 2`. El resultado será un arreglo de `3 × 2`.\n",
    "- Es **_inválido_** para multiplicar un arreglo de `4 × 2` por uno de `3 × 4`."
   ]
  },
  {
   "cell_type": "code",
   "execution_count": 11,
   "metadata": {},
   "outputs": [
    {
     "name": "stdout",
     "output_type": "stream",
     "text": [
      "[[35 58]\n",
      " [35 33]\n",
      " [ 1 -4]]\n"
     ]
    }
   ],
   "source": [
    "with detection_graph.as_default():\n",
    "  # Cree una matriz (tensor 2-d) con 3 filas y 4 columnas.\n",
    "  x = tf.constant([[5, 2, 4, 3], [5, 1, 6, -2], [-1, 3, -1, -2]],\n",
    "                  dtype=tf.int32)\n",
    "\n",
    "  # Crea una matriz con 4 filas y 2 columnas.\n",
    "  y = tf.constant([[2, 2], [3, 5], [4, 5], [1, 6]], dtype=tf.int32)\n",
    "\n",
    "  #Multiplica `x` por `y`.\n",
    "  # La matriz resultante tendrá 3 filas y 2 columnas.\n",
    "  matrix_multiply_result = tf.matmul(x, y)\n",
    "\n",
    "  with tf.compat.v1.Session() as sess:\n",
    "    print(matrix_multiply_result.eval())"
   ]
  },
  {
   "cell_type": "markdown",
   "metadata": {},
   "source": [
    " ## Cambio de formas de tensores\n",
    "\n",
    "Dado que la suma de tensores y el producto de arreglos tienen restricciones en los operandos, los programadores de TensorFlow con frecuencia deben cambiar la forma de los tensores.\n",
    "\n",
    "Para cambiar la forma de un tensor, puedes usar el método `tf.reshape`.\n",
    "Por ejemplo, puedes cambiar la forma de un tensor de 8 × 2 a uno de 2 × 8 o 4 × 4:"
   ]
  },
  {
   "cell_type": "code",
   "execution_count": 16,
   "metadata": {},
   "outputs": [
    {
     "name": "stdout",
     "output_type": "stream",
     "text": [
      "Original matrix (8x2):\n",
      "[[ 1  2]\n",
      " [ 3  4]\n",
      " [ 5  6]\n",
      " [ 7  8]\n",
      " [ 9 10]\n",
      " [11 12]\n",
      " [13 14]\n",
      " [15 16]]\n",
      "Reshaped matrix (2x8):\n",
      "[[ 1  2  3  4  5  6  7  8]\n",
      " [ 9 10 11 12 13 14 15 16]]\n",
      "Reshaped matrix (4x4):\n",
      "[[ 1  2  3  4]\n",
      " [ 5  6  7  8]\n",
      " [ 9 10 11 12]\n",
      " [13 14 15 16]]\n"
     ]
    }
   ],
   "source": [
    "with detection_graph.as_default():\n",
    " # Cree una matriz de 8x2 (tensor 2-D).\n",
    "  matriz = tf.constant([[1,2], [3,4], [5,6], [7,8],[9,10], [11,12], [13, 14], [15,16]], dtype=tf.int32)\n",
    "\n",
    "  # Reshape  la matriz de 8x2 en una matriz de 2x8.\n",
    "  reshaped_2x8_matrix = tf.reshape(matriz, [2,8])\n",
    "  \n",
    "  # Reshape la matriz de 8x2 en una matriz de 4x4\n",
    "  reshaped_4x4_matrix = tf.reshape(matriz, [4,4])\n",
    "\n",
    "  with tf.compat.v1.Session() as sess:\n",
    "    print(\"Original matrix (8x2):\")\n",
    "    print(matriz.eval())\n",
    "    print(\"Reshaped matrix (2x8):\")\n",
    "    print(reshaped_2x8_matrix.eval())\n",
    "    print(\"Reshaped matrix (4x4):\")\n",
    "    print(reshaped_4x4_matrix.eval())"
   ]
  },
  {
   "cell_type": "markdown",
   "metadata": {},
   "source": [
    " \n",
    "También puedes usar `tf.reshape` para cambiar la cantidad de dimensiones (la \"clasificación\") del tensor.\n",
    "Por ejemplo, puedes cambiar la forma de un tensor de 8 × 2 a uno de 3-D de 2 × 2 × 4 o uno de 1-D de 16 elementos."
   ]
  },
  {
   "cell_type": "code",
   "execution_count": 17,
   "metadata": {},
   "outputs": [
    {
     "name": "stdout",
     "output_type": "stream",
     "text": [
      "Original matrix (8x2):\n",
      "[[ 1  2]\n",
      " [ 3  4]\n",
      " [ 5  6]\n",
      " [ 7  8]\n",
      " [ 9 10]\n",
      " [11 12]\n",
      " [13 14]\n",
      " [15 16]]\n",
      "Reshaped 3-D tensor (2x2x4):\n",
      "[[[ 1  2  3  4]\n",
      "  [ 5  6  7  8]]\n",
      "\n",
      " [[ 9 10 11 12]\n",
      "  [13 14 15 16]]]\n",
      "1-D vector:\n",
      "[ 1  2  3  4  5  6  7  8  9 10 11 12 13 14 15 16]\n"
     ]
    }
   ],
   "source": [
    "with tf.Graph().as_default():\n",
    "  # Cree una matriz de 8x2 (tensor 2-D).\n",
    "  matrix = tf.constant([[1,2], [3,4], [5,6], [7,8],\n",
    "                        [9,10], [11,12], [13, 14], [15,16]], dtype=tf.int32)\n",
    "\n",
    "  # Reshape la matriz de 8x2 en un tensor tridimensional de 2x2x4.\n",
    "  reshaped_2x2x4_tensor = tf.reshape(matrix, [2,2,4])\n",
    "  \n",
    "  # Reshape la matriz 8x2 en un tensor 1-D de 16 elementos.\n",
    "  one_dimensional_vector = tf.reshape(matrix, [16])\n",
    "\n",
    "  with tf.compat.v1.Session() as sess:\n",
    "    print(\"Original matrix (8x2):\")\n",
    "    print(matrix.eval())\n",
    "    print(\"Reshaped 3-D tensor (2x2x4):\")\n",
    "    print(reshaped_2x2x4_tensor.eval())\n",
    "    print(\"1-D vector:\")\n",
    "    print(one_dimensional_vector.eval())"
   ]
  },
  {
   "cell_type": "markdown",
   "metadata": {},
   "source": [
    "# Variables, Inicialización y asignación\n",
    "Hasta el momento, todas las operaciones que realizamos fueron en valores estáticos (tf.constant); al invocar a eval(), el resultado fue siempre el mismo. TensorFlow permite definir objetos de Variable, cuyos valores pueden modificarse.\n",
    "\n",
    "Cuando se crea una variable, puedes establecer un valor inicial de forma explícita o usar un inicializador (como una distribución):"
   ]
  },
  {
   "cell_type": "code",
   "execution_count": 21,
   "metadata": {},
   "outputs": [],
   "source": [
    "g = tf.Graph()\n",
    "with g.as_default():\n",
    " # Crea una variable con el valor inicial 3.\n",
    "  v = tf.Variable([3])\n",
    "\n",
    "  # Crea una variable de forma [1], con un valor inicial aleatorio,\n",
    "  # muestreado de una distribución normal con media 1 y desviación estándar 0.35.\n",
    "  w = tf.Variable(tf.random.normal([1], mean=1.0, stddev=0.35))"
   ]
  },
  {
   "cell_type": "markdown",
   "metadata": {},
   "source": [
    " Una particularidad de TensorFlow es que la **inicialización de variables no es automática**. \n",
    " La forma más fácil de inicializar una variable es invocando a global_variables_initializer. Ten en cuenta el uso de Session.run(), que es prácticamente equivalente a eval()."
   ]
  },
  {
   "cell_type": "code",
   "execution_count": 24,
   "metadata": {},
   "outputs": [
    {
     "name": "stdout",
     "output_type": "stream",
     "text": [
      "[3]\n",
      "[0.63418776]\n"
     ]
    }
   ],
   "source": [
    "\n",
    "\n",
    "with g.as_default():\n",
    "  with tf.compat.v1.Session() as sess:\n",
    "    initialization = tf.compat.v1.global_variables_initializer()\n",
    "    sess.run(initialization)\n",
    "   # Ahora, se puede acceder a las variables normalmente y tener valores asignados a ellas.\n",
    "    print(v.eval())\n",
    "    print(w.eval())\n"
   ]
  },
  {
   "cell_type": "markdown",
   "metadata": {},
   "source": [
    " Para cambiar el valor de una variable, usa el operando `assign`. Ten en cuenta que, con solo crear el operando `assign`, no se obtendrá ningún efecto. Al igual que con la inicialización, deberás ejecutar el operando de asignación para actualizar el valor de la variable:"
   ]
  },
  {
   "cell_type": "code",
   "execution_count": 28,
   "metadata": {},
   "outputs": [
    {
     "name": "stdout",
     "output_type": "stream",
     "text": [
      "[3]\n",
      "[3]\n",
      "[7]\n"
     ]
    }
   ],
   "source": [
    "with g.as_default():\n",
    "  with tf.compat.v1.Session() as sess:\n",
    "    sess.run(tf.compat.v1.global_variables_initializer())\n",
    "    # This should print the variable's initial value.\n",
    "    print(v.eval())\n",
    "\n",
    "    assignment = tf.compat.v1.assign(v, [7])\n",
    "    # The variable has not been changed yet!\n",
    "    print(v.eval())\n",
    "\n",
    "    # Execute the assignment op.\n",
    "    sess.run(assignment)\n",
    "    # Now the variable is updated.\n",
    "    print(v.eval())"
   ]
  }
 ],
 "metadata": {
  "kernelspec": {
   "display_name": "Python 3.9.7 ('base')",
   "language": "python",
   "name": "python3"
  },
  "language_info": {
   "codemirror_mode": {
    "name": "ipython",
    "version": 3
   },
   "file_extension": ".py",
   "mimetype": "text/x-python",
   "name": "python",
   "nbconvert_exporter": "python",
   "pygments_lexer": "ipython3",
   "version": "3.9.7"
  },
  "orig_nbformat": 4,
  "vscode": {
   "interpreter": {
    "hash": "e06ff7da33dc9620448857a90ad8b5f428f0d573d205a934d2841c8aee45ea32"
   }
  }
 },
 "nbformat": 4,
 "nbformat_minor": 2
}
